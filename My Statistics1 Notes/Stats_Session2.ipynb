{
 "cells": [
  {
   "cell_type": "code",
   "execution_count": null,
   "id": "d47921d2",
   "metadata": {},
   "outputs": [],
   "source": [
    "import numpy as np\n",
    "from scipy import stats\n",
    "\n",
    "salary = [102, 33, 26, 27, 30, 25, 33, 33, 24]\n",
    "\n",
    "mean_salary = np.mean(salary)\n",
    "print(\"mean:\", mean_salary)\n",
    "\n",
    "median_salary = np.median(salary)\n",
    "print(\"median:\", median_salary)\n",
    "\n",
    "mode_salary = stats.mode(salary)\n",
    "print(\"mode:\", mode_salary)\n",
    "\n",
    "mode_salary = stats.mode(salary, keepdims=False)\n",
    "print(\"mode:\", mode_salary)\n",
    "\n",
    "mode_salary = stats.mode(salary, keepdims=True)\n",
    "print(\"mode:\", mode_salary)"
   ]
  },
  {
   "cell_type": "code",
   "execution_count": null,
   "id": "5d68d60c",
   "metadata": {},
   "outputs": [],
   "source": [
    "#NumPy\n",
    "#Pandas\n",
    "#SciPy (stats)\n",
    "#Seaborn  (gorsellestirme)\n",
    "#Matplotlib (gorsellestirme)"
   ]
  },
  {
   "cell_type": "code",
   "execution_count": 2,
   "id": "6dc8b4f1",
   "metadata": {},
   "outputs": [
    {
     "name": "stdout",
     "output_type": "stream",
     "text": [
      "1.21.5\n"
     ]
    }
   ],
   "source": [
    "print(np.__version__)"
   ]
  },
  {
   "cell_type": "code",
   "execution_count": 21,
   "id": "aae51bd0",
   "metadata": {},
   "outputs": [],
   "source": [
    "import numpy as np\n",
    "import seaborn as sns\n",
    "from scipy import stats"
   ]
  },
  {
   "cell_type": "code",
   "execution_count": 15,
   "id": "6fe46035",
   "metadata": {},
   "outputs": [],
   "source": [
    "import scipy"
   ]
  },
  {
   "cell_type": "code",
   "execution_count": 16,
   "id": "5a653125",
   "metadata": {},
   "outputs": [],
   "source": [
    "a = [5,7,10,15,19,21,21,22,22,23,23,23,23,23,24,24,24,24,25]"
   ]
  },
  {
   "cell_type": "code",
   "execution_count": 19,
   "id": "f659bb2b",
   "metadata": {},
   "outputs": [
    {
     "name": "stderr",
     "output_type": "stream",
     "text": [
      "/var/folders/rj/btv0gg5s6k311rng_vg2r35w0000gn/T/ipykernel_71347/3408956811.py:1: FutureWarning: Unlike other reduction functions (e.g. `skew`, `kurtosis`), the default behavior of `mode` typically preserves the axis it acts along. In SciPy 1.11.0, this behavior will change: the default value of `keepdims` will become False, the `axis` over which the statistic is taken will be eliminated, and the value None will no longer be accepted. Set `keepdims` to True or False to avoid this warning.\n",
      "  scipy.stats.mode(a)\n"
     ]
    },
    {
     "data": {
      "text/plain": [
       "ModeResult(mode=array([23]), count=array([5]))"
      ]
     },
     "execution_count": 19,
     "metadata": {},
     "output_type": "execute_result"
    }
   ],
   "source": [
    "scipy.stats.mode(a)"
   ]
  },
  {
   "cell_type": "code",
   "execution_count": 5,
   "id": "5444cece",
   "metadata": {},
   "outputs": [
    {
     "data": {
      "text/plain": [
       "19"
      ]
     },
     "execution_count": 5,
     "metadata": {},
     "output_type": "execute_result"
    }
   ],
   "source": [
    "len(a)"
   ]
  },
  {
   "cell_type": "code",
   "execution_count": 6,
   "id": "54ed1d50",
   "metadata": {},
   "outputs": [
    {
     "name": "stdout",
     "output_type": "stream",
     "text": [
      "19.894736842105264\n",
      "23.0\n",
      "ModeResult(mode=array([23]), count=array([5]))\n"
     ]
    },
    {
     "name": "stderr",
     "output_type": "stream",
     "text": [
      "/var/folders/rj/btv0gg5s6k311rng_vg2r35w0000gn/T/ipykernel_47645/2992882565.py:5: FutureWarning: Unlike other reduction functions (e.g. `skew`, `kurtosis`), the default behavior of `mode` typically preserves the axis it acts along. In SciPy 1.11.0, this behavior will change: the default value of `keepdims` will become False, the `axis` over which the statistic is taken will be eliminated, and the value None will no longer be accepted. Set `keepdims` to True or False to avoid this warning.\n",
      "  print(stats.mode(a))\n"
     ]
    }
   ],
   "source": [
    "print(np.mean(a))\n",
    "\n",
    "print(np.median(a))\n",
    "\n",
    "print(stats.mode(a))"
   ]
  },
  {
   "cell_type": "code",
   "execution_count": 11,
   "id": "c1708872",
   "metadata": {},
   "outputs": [
    {
     "name": "stderr",
     "output_type": "stream",
     "text": [
      "/var/folders/rj/btv0gg5s6k311rng_vg2r35w0000gn/T/ipykernel_47645/3728512739.py:1: FutureWarning: Unlike other reduction functions (e.g. `skew`, `kurtosis`), the default behavior of `mode` typically preserves the axis it acts along. In SciPy 1.11.0, this behavior will change: the default value of `keepdims` will become False, the `axis` over which the statistic is taken will be eliminated, and the value None will no longer be accepted. Set `keepdims` to True or False to avoid this warning.\n",
      "  stats.mode(a)[0]\n"
     ]
    },
    {
     "data": {
      "text/plain": [
       "array([23])"
      ]
     },
     "execution_count": 11,
     "metadata": {},
     "output_type": "execute_result"
    }
   ],
   "source": [
    "stats.mode(a)[0]"
   ]
  },
  {
   "cell_type": "code",
   "execution_count": 10,
   "id": "765064b9",
   "metadata": {},
   "outputs": [
    {
     "name": "stderr",
     "output_type": "stream",
     "text": [
      "/var/folders/rj/btv0gg5s6k311rng_vg2r35w0000gn/T/ipykernel_47645/1558523222.py:1: FutureWarning: Unlike other reduction functions (e.g. `skew`, `kurtosis`), the default behavior of `mode` typically preserves the axis it acts along. In SciPy 1.11.0, this behavior will change: the default value of `keepdims` will become False, the `axis` over which the statistic is taken will be eliminated, and the value None will no longer be accepted. Set `keepdims` to True or False to avoid this warning.\n",
      "  stats.mode(a)[0][0]\n"
     ]
    },
    {
     "data": {
      "text/plain": [
       "23"
      ]
     },
     "execution_count": 10,
     "metadata": {},
     "output_type": "execute_result"
    }
   ],
   "source": [
    "stats.mode(a)[0][0]"
   ]
  },
  {
   "cell_type": "code",
   "execution_count": 8,
   "id": "73d12e64",
   "metadata": {},
   "outputs": [
    {
     "name": "stderr",
     "output_type": "stream",
     "text": [
      "/var/folders/rj/btv0gg5s6k311rng_vg2r35w0000gn/T/ipykernel_47645/2732935528.py:1: FutureWarning: Unlike other reduction functions (e.g. `skew`, `kurtosis`), the default behavior of `mode` typically preserves the axis it acts along. In SciPy 1.11.0, this behavior will change: the default value of `keepdims` will become False, the `axis` over which the statistic is taken will be eliminated, and the value None will no longer be accepted. Set `keepdims` to True or False to avoid this warning.\n",
      "  stats.mode(a)[1]\n"
     ]
    },
    {
     "data": {
      "text/plain": [
       "array([5])"
      ]
     },
     "execution_count": 8,
     "metadata": {},
     "output_type": "execute_result"
    }
   ],
   "source": [
    "stats.mode(a)[1]"
   ]
  },
  {
   "cell_type": "code",
   "execution_count": 13,
   "id": "5c346e6e",
   "metadata": {},
   "outputs": [
    {
     "data": {
      "text/plain": [
       "5"
      ]
     },
     "execution_count": 13,
     "metadata": {},
     "output_type": "execute_result"
    }
   ],
   "source": [
    "np.min(a)"
   ]
  },
  {
   "cell_type": "code",
   "execution_count": 14,
   "id": "3662be49",
   "metadata": {},
   "outputs": [
    {
     "data": {
      "text/plain": [
       "25"
      ]
     },
     "execution_count": 14,
     "metadata": {},
     "output_type": "execute_result"
    }
   ],
   "source": [
    "np.max(a)"
   ]
  },
  {
   "cell_type": "code",
   "execution_count": 23,
   "id": "ceaabd41",
   "metadata": {},
   "outputs": [
    {
     "data": {
      "text/plain": [
       "20.0"
      ]
     },
     "execution_count": 23,
     "metadata": {},
     "output_type": "execute_result"
    }
   ],
   "source": [
    "q1 = np.percentile(a, 25)\n",
    "\n",
    "q1"
   ]
  },
  {
   "cell_type": "code",
   "execution_count": 24,
   "id": "4b86c2b7",
   "metadata": {},
   "outputs": [
    {
     "data": {
      "text/plain": [
       "23.5"
      ]
     },
     "execution_count": 24,
     "metadata": {},
     "output_type": "execute_result"
    }
   ],
   "source": [
    "q3 = np.percentile(a, 75)\n",
    "\n",
    "q3"
   ]
  },
  {
   "cell_type": "code",
   "execution_count": 20,
   "id": "50d7e905",
   "metadata": {},
   "outputs": [],
   "source": [
    "q2 = np.percentile(a, 50)"
   ]
  },
  {
   "cell_type": "code",
   "execution_count": 25,
   "id": "fbb86e60",
   "metadata": {},
   "outputs": [
    {
     "data": {
      "text/plain": [
       "3.5"
      ]
     },
     "execution_count": 25,
     "metadata": {},
     "output_type": "execute_result"
    }
   ],
   "source": [
    "IQR = q3 - q1\n",
    "\n",
    "IQR"
   ]
  },
  {
   "cell_type": "code",
   "execution_count": 26,
   "id": "e4205ca0",
   "metadata": {},
   "outputs": [
    {
     "data": {
      "text/plain": [
       "3.5"
      ]
     },
     "execution_count": 26,
     "metadata": {},
     "output_type": "execute_result"
    }
   ],
   "source": [
    "stats.iqr(a)"
   ]
  },
  {
   "cell_type": "code",
   "execution_count": 27,
   "id": "e8e5823f",
   "metadata": {},
   "outputs": [
    {
     "data": {
      "text/plain": [
       "array([20. , 23. , 23.5])"
      ]
     },
     "execution_count": 27,
     "metadata": {},
     "output_type": "execute_result"
    }
   ],
   "source": [
    "np.percentile(a, [25, 50, 75])"
   ]
  },
  {
   "cell_type": "code",
   "execution_count": 4,
   "id": "791ffcb8",
   "metadata": {},
   "outputs": [
    {
     "data": {
      "text/plain": [
       "array([6.])"
      ]
     },
     "execution_count": 4,
     "metadata": {},
     "output_type": "execute_result"
    }
   ],
   "source": [
    "a = [8, 10, 4, 24, 8, 3, 10, 3, 40, 7, 6, 12, 4]\n",
    "\n",
    "np.percentile(a, [75]) - np.percentile(a, [25])"
   ]
  },
  {
   "cell_type": "code",
   "execution_count": 18,
   "id": "f5a4bf90",
   "metadata": {},
   "outputs": [
    {
     "name": "stdout",
     "output_type": "stream",
     "text": [
      "Help on function percentile in module numpy:\n",
      "\n",
      "percentile(a, q, axis=None, out=None, overwrite_input=False, interpolation='linear', keepdims=False)\n",
      "    Compute the q-th percentile of the data along the specified axis.\n",
      "    \n",
      "    Returns the q-th percentile(s) of the array elements.\n",
      "    \n",
      "    Parameters\n",
      "    ----------\n",
      "    a : array_like\n",
      "        Input array or object that can be converted to an array.\n",
      "    q : array_like of float\n",
      "        Percentile or sequence of percentiles to compute, which must be between\n",
      "        0 and 100 inclusive.\n",
      "    axis : {int, tuple of int, None}, optional\n",
      "        Axis or axes along which the percentiles are computed. The\n",
      "        default is to compute the percentile(s) along a flattened\n",
      "        version of the array.\n",
      "    \n",
      "        .. versionchanged:: 1.9.0\n",
      "            A tuple of axes is supported\n",
      "    out : ndarray, optional\n",
      "        Alternative output array in which to place the result. It must\n",
      "        have the same shape and buffer length as the expected output,\n",
      "        but the type (of the output) will be cast if necessary.\n",
      "    overwrite_input : bool, optional\n",
      "        If True, then allow the input array `a` to be modified by intermediate\n",
      "        calculations, to save memory. In this case, the contents of the input\n",
      "        `a` after this function completes is undefined.\n",
      "    \n",
      "    interpolation : {'linear', 'lower', 'higher', 'midpoint', 'nearest'}\n",
      "        This optional parameter specifies the interpolation method to\n",
      "        use when the desired percentile lies between two data points\n",
      "        ``i < j``:\n",
      "    \n",
      "        * 'linear': ``i + (j - i) * fraction``, where ``fraction``\n",
      "          is the fractional part of the index surrounded by ``i``\n",
      "          and ``j``.\n",
      "        * 'lower': ``i``.\n",
      "        * 'higher': ``j``.\n",
      "        * 'nearest': ``i`` or ``j``, whichever is nearest.\n",
      "        * 'midpoint': ``(i + j) / 2``.\n",
      "    \n",
      "        .. versionadded:: 1.9.0\n",
      "    keepdims : bool, optional\n",
      "        If this is set to True, the axes which are reduced are left in\n",
      "        the result as dimensions with size one. With this option, the\n",
      "        result will broadcast correctly against the original array `a`.\n",
      "    \n",
      "        .. versionadded:: 1.9.0\n",
      "    \n",
      "    Returns\n",
      "    -------\n",
      "    percentile : scalar or ndarray\n",
      "        If `q` is a single percentile and `axis=None`, then the result\n",
      "        is a scalar. If multiple percentiles are given, first axis of\n",
      "        the result corresponds to the percentiles. The other axes are\n",
      "        the axes that remain after the reduction of `a`. If the input\n",
      "        contains integers or floats smaller than ``float64``, the output\n",
      "        data-type is ``float64``. Otherwise, the output data-type is the\n",
      "        same as that of the input. If `out` is specified, that array is\n",
      "        returned instead.\n",
      "    \n",
      "    See Also\n",
      "    --------\n",
      "    mean\n",
      "    median : equivalent to ``percentile(..., 50)``\n",
      "    nanpercentile\n",
      "    quantile : equivalent to percentile, except with q in the range [0, 1].\n",
      "    \n",
      "    Notes\n",
      "    -----\n",
      "    Given a vector ``V`` of length ``N``, the q-th percentile of\n",
      "    ``V`` is the value ``q/100`` of the way from the minimum to the\n",
      "    maximum in a sorted copy of ``V``. The values and distances of\n",
      "    the two nearest neighbors as well as the `interpolation` parameter\n",
      "    will determine the percentile if the normalized ranking does not\n",
      "    match the location of ``q`` exactly. This function is the same as\n",
      "    the median if ``q=50``, the same as the minimum if ``q=0`` and the\n",
      "    same as the maximum if ``q=100``.\n",
      "    \n",
      "    Examples\n",
      "    --------\n",
      "    >>> a = np.array([[10, 7, 4], [3, 2, 1]])\n",
      "    >>> a\n",
      "    array([[10,  7,  4],\n",
      "           [ 3,  2,  1]])\n",
      "    >>> np.percentile(a, 50)\n",
      "    3.5\n",
      "    >>> np.percentile(a, 50, axis=0)\n",
      "    array([6.5, 4.5, 2.5])\n",
      "    >>> np.percentile(a, 50, axis=1)\n",
      "    array([7.,  2.])\n",
      "    >>> np.percentile(a, 50, axis=1, keepdims=True)\n",
      "    array([[7.],\n",
      "           [2.]])\n",
      "    \n",
      "    >>> m = np.percentile(a, 50, axis=0)\n",
      "    >>> out = np.zeros_like(m)\n",
      "    >>> np.percentile(a, 50, axis=0, out=out)\n",
      "    array([6.5, 4.5, 2.5])\n",
      "    >>> m\n",
      "    array([6.5, 4.5, 2.5])\n",
      "    \n",
      "    >>> b = a.copy()\n",
      "    >>> np.percentile(b, 50, axis=1, overwrite_input=True)\n",
      "    array([7.,  2.])\n",
      "    >>> assert not np.all(a == b)\n",
      "    \n",
      "    The different types of interpolation can be visualized graphically:\n",
      "    \n",
      "    .. plot::\n",
      "    \n",
      "        import matplotlib.pyplot as plt\n",
      "    \n",
      "        a = np.arange(4)\n",
      "        p = np.linspace(0, 100, 6001)\n",
      "        ax = plt.gca()\n",
      "        lines = [\n",
      "            ('linear', None),\n",
      "            ('higher', '--'),\n",
      "            ('lower', '--'),\n",
      "            ('nearest', '-.'),\n",
      "            ('midpoint', '-.'),\n",
      "        ]\n",
      "        for interpolation, style in lines:\n",
      "            ax.plot(\n",
      "                p, np.percentile(a, p, interpolation=interpolation),\n",
      "                label=interpolation, linestyle=style)\n",
      "        ax.set(\n",
      "            title='Interpolation methods for list: ' + str(a),\n",
      "            xlabel='Percentile',\n",
      "            ylabel='List item returned',\n",
      "            yticks=a)\n",
      "        ax.legend()\n",
      "        plt.show()\n",
      "\n"
     ]
    }
   ],
   "source": [
    "help(np.percentile)  # help() fonksiyonu orneklerle bir fonsiyonu aciklar"
   ]
  },
  {
   "cell_type": "code",
   "execution_count": null,
   "id": "b58f04cf",
   "metadata": {},
   "outputs": [],
   "source": []
  },
  {
   "cell_type": "markdown",
   "id": "f6da8729",
   "metadata": {},
   "source": [
    "# Variance and Standard Deviation"
   ]
  },
  {
   "cell_type": "code",
   "execution_count": 28,
   "id": "4ae3ce54",
   "metadata": {},
   "outputs": [
    {
     "data": {
      "text/plain": [
       "34.93628808864266"
      ]
     },
     "execution_count": 28,
     "metadata": {},
     "output_type": "execute_result"
    }
   ],
   "source": [
    "np.var(a)"
   ]
  },
  {
   "cell_type": "code",
   "execution_count": 29,
   "id": "06fda23b",
   "metadata": {},
   "outputs": [
    {
     "data": {
      "text/plain": [
       "5.910692691101667"
      ]
     },
     "execution_count": 29,
     "metadata": {},
     "output_type": "execute_result"
    }
   ],
   "source": [
    "np.std(a)  # population std"
   ]
  },
  {
   "cell_type": "code",
   "execution_count": 33,
   "id": "c7b44196",
   "metadata": {},
   "outputs": [
    {
     "data": {
      "text/plain": [
       "6.0726594653789165"
      ]
     },
     "execution_count": 33,
     "metadata": {},
     "output_type": "execute_result"
    }
   ],
   "source": [
    "np.std(a, ddof=1)  # sample std (n-1)'e boler"
   ]
  },
  {
   "cell_type": "code",
   "execution_count": 30,
   "id": "d537ba23",
   "metadata": {},
   "outputs": [
    {
     "data": {
      "text/plain": [
       "5.910692691101667"
      ]
     },
     "execution_count": 30,
     "metadata": {},
     "output_type": "execute_result"
    }
   ],
   "source": [
    "np.sqrt(np.var(a))"
   ]
  },
  {
   "cell_type": "code",
   "execution_count": 1,
   "id": "ffcf504b",
   "metadata": {},
   "outputs": [],
   "source": [
    "b = [0,0,0,2,4,4,4]"
   ]
  },
  {
   "cell_type": "code",
   "execution_count": 3,
   "id": "6ba3af7b",
   "metadata": {},
   "outputs": [
    {
     "data": {
      "text/plain": [
       "1.8516401995451028"
      ]
     },
     "execution_count": 3,
     "metadata": {},
     "output_type": "execute_result"
    }
   ],
   "source": [
    "np.std(b)  # population std"
   ]
  },
  {
   "cell_type": "code",
   "execution_count": 4,
   "id": "3f64bae0",
   "metadata": {},
   "outputs": [
    {
     "data": {
      "text/plain": [
       "3.4285714285714284"
      ]
     },
     "execution_count": 4,
     "metadata": {},
     "output_type": "execute_result"
    }
   ],
   "source": [
    "np.var(b)"
   ]
  },
  {
   "cell_type": "code",
   "execution_count": 5,
   "id": "07ac429f",
   "metadata": {},
   "outputs": [],
   "source": [
    "c = [0,2,2,2,2,2,4]"
   ]
  },
  {
   "cell_type": "code",
   "execution_count": 6,
   "id": "7d2a2c51",
   "metadata": {},
   "outputs": [
    {
     "data": {
      "text/plain": [
       "1.0690449676496976"
      ]
     },
     "execution_count": 6,
     "metadata": {},
     "output_type": "execute_result"
    }
   ],
   "source": [
    "np.std(c)  # population std"
   ]
  },
  {
   "cell_type": "code",
   "execution_count": 7,
   "id": "70ab6c0e",
   "metadata": {},
   "outputs": [
    {
     "data": {
      "text/plain": [
       "1.1428571428571428"
      ]
     },
     "execution_count": 7,
     "metadata": {},
     "output_type": "execute_result"
    }
   ],
   "source": [
    "np.var(c)"
   ]
  },
  {
   "cell_type": "markdown",
   "id": "a569e3e0",
   "metadata": {},
   "source": [
    "# Skewness"
   ]
  },
  {
   "cell_type": "code",
   "execution_count": 31,
   "id": "bf7f698e",
   "metadata": {},
   "outputs": [
    {
     "data": {
      "text/plain": [
       "-1.5176315809887007"
      ]
     },
     "execution_count": 31,
     "metadata": {},
     "output_type": "execute_result"
    }
   ],
   "source": [
    "stats.skew(a)  # a is negatively skewed"
   ]
  },
  {
   "cell_type": "code",
   "execution_count": 32,
   "id": "049d344d",
   "metadata": {},
   "outputs": [
    {
     "data": {
      "text/plain": [
       "DescribeResult(nobs=19, minmax=(5, 25), mean=19.894736842105264, variance=36.877192982456144, skewness=-1.5176315809887007, kurtosis=0.8528442245963328)"
      ]
     },
     "execution_count": 32,
     "metadata": {},
     "output_type": "execute_result"
    }
   ],
   "source": [
    "stats.describe(a)"
   ]
  },
  {
   "cell_type": "code",
   "execution_count": 20,
   "id": "fd01c903",
   "metadata": {},
   "outputs": [
    {
     "data": {
      "text/plain": [
       "0.8528442245963328"
      ]
     },
     "execution_count": 20,
     "metadata": {},
     "output_type": "execute_result"
    }
   ],
   "source": [
    "stats.kurtosis(a)"
   ]
  },
  {
   "cell_type": "code",
   "execution_count": 14,
   "id": "7becfde0",
   "metadata": {},
   "outputs": [
    {
     "data": {
      "text/plain": [
       "array([101.98443207,  77.91185708, 105.2908661 ,  84.99941326,\n",
       "       102.05253158,  91.2029072 ,  88.39000367,  81.88864821,\n",
       "       122.04233496, 117.46992685,  77.71916414, 107.4214242 ,\n",
       "        84.6257924 , 106.58224331,  96.85795882,  93.34332262,\n",
       "        84.13022087,  78.88118077, 107.07109558, 124.59251989,\n",
       "       128.21205754, 104.21362258,  65.93082161, 111.26788668,\n",
       "        99.52838471, 110.14875883, 108.36052554,  82.89270263,\n",
       "        98.18471557,  68.55891062, 103.09674438,  89.82255034,\n",
       "       109.45995333, 120.345171  , 107.57899753, 105.52066864,\n",
       "       104.51980631,  85.32889691, 125.07159393, 114.06567802,\n",
       "        72.65030638,  98.42677527,  81.54712094,  69.03903915,\n",
       "        86.38535775, 110.01222969,  94.90069295, 102.68883637,\n",
       "        99.19701731, 108.20081094, 103.78061306, 102.61007204,\n",
       "        80.17297429, 107.81335788, 107.7614375 , 104.4752604 ,\n",
       "       122.94462547, 108.61993307,  95.76513838,  69.51792416,\n",
       "        82.04983942,  70.80384607,  76.32881249, 112.04540079,\n",
       "        83.2355646 , 132.99604757,  89.97466855,  91.6966542 ,\n",
       "       103.87964312,  99.57729394,  97.80191118,  99.75879202,\n",
       "       103.30634917,  51.05735775, 126.09124367, 105.25746032,\n",
       "        86.31391819,  92.98499398,  88.50862897,  72.18177225,\n",
       "       100.66316828, 103.70632854, 112.23865031,  88.89097974,\n",
       "        98.91385929,  98.35186848, 106.12240215,  95.13738339,\n",
       "       114.85173259, 102.64308278, 106.52672133, 115.57821942,\n",
       "        98.89124993, 126.02428778, 101.1516263 ,  92.81493371,\n",
       "       108.3843936 ,  99.59848745, 103.52416402, 108.47466738,\n",
       "        99.07081067,  76.70848546,  90.66306569, 127.00913401,\n",
       "       101.35461839, 109.41310853,  73.24865951,  90.99631191,\n",
       "       117.01249782, 101.95605917, 115.02919964,  87.21740504,\n",
       "       118.62350588,  77.82961322,  91.72839378, 115.17629707,\n",
       "       106.81037108, 108.69752964,  98.14605604, 108.94181348,\n",
       "        88.6848151 ,  83.07476888,  89.08779765, 112.48109621,\n",
       "       115.66691707, 104.25146288,  70.76768702,  90.51905904,\n",
       "       129.43116777,  80.40987742, 112.02726762, 103.97166395,\n",
       "       105.18449083, 117.43866531,  74.28060815,  92.60009564,\n",
       "        86.08511886,  55.26578149,  88.81522674,  87.52097049,\n",
       "        98.36385244, 111.56435337,  92.05346883,  94.87381745,\n",
       "        95.10366957,  84.53419842,  69.10601797, 107.11288595,\n",
       "        92.16259612,  91.67109526, 109.78357969, 109.16209555,\n",
       "        61.06714558, 101.02371153, 103.8052358 ,  55.77478943,\n",
       "        97.81507027,  81.69493751, 107.2666862 , 112.91164153,\n",
       "        84.56325363,  93.86199919,  86.45789394,  89.0305614 ,\n",
       "       115.05481113, 124.22050842, 126.0310525 ,  96.90865118,\n",
       "       130.39712347,  80.12456138,  83.58334723,  88.31936532,\n",
       "       104.36478424, 107.50162938,  80.23127213,  95.71878931,\n",
       "       109.96818659, 119.53393891,  86.19440311,  98.52309186,\n",
       "       115.66006955, 105.00283143, 117.25255835, 109.9574672 ,\n",
       "        92.757249  , 108.4442652 ,  66.31276016, 117.0692154 ,\n",
       "        92.09966506,  83.54462865,  76.28441204, 108.49420479,\n",
       "       107.79795757, 110.91713706, 109.34386531, 127.06432638,\n",
       "        83.59252333,  95.85194243,  93.0496768 ,  88.45523674,\n",
       "        84.21445986, 124.4897953 ,  93.20121431, 101.88525498,\n",
       "       101.49235136,  92.59338093,  76.8093466 , 108.19615101,\n",
       "        88.60954831,  90.24016274, 107.04400342,  96.44041599,\n",
       "       100.23153519,  68.63661335,  94.11772542,  84.82686725,\n",
       "       108.68649331,  89.11094245,  94.96225804,  70.88634896,\n",
       "        77.5902122 , 114.38602177,  72.39973118, 117.54690021,\n",
       "        87.96472194, 119.14032569,  97.16663164, 112.85386719,\n",
       "        92.25266134,  81.89585226, 114.34427642, 113.6315341 ,\n",
       "        99.98043158, 107.9938016 ,  93.63025726,  93.33994117,\n",
       "        73.21438081,  86.6239521 ,  94.49845864,  90.61060659,\n",
       "       126.5850473 ,  97.81907855, 119.79968766, 111.66432912,\n",
       "        98.63771503,  84.74353387,  58.72743727,  95.04114342,\n",
       "        91.34175199, 103.83658721, 121.09578218, 109.44571467,\n",
       "        91.58826705,  91.95033359, 113.22448239, 101.17131478,\n",
       "        86.61777892,  84.28901245,  72.69492919, 100.36378809,\n",
       "       121.26127162, 134.07969736,  97.16701464, 131.47796167,\n",
       "        96.96677463,  93.67882754,  89.2203284 ,  84.07688617,\n",
       "       102.96195569,  68.84613975, 126.27106652,  83.75453107,\n",
       "        92.10009093,  63.89867608, 108.63022586,  83.33682501,\n",
       "       100.81848371, 101.84160093,  75.83318875, 102.03679183,\n",
       "        96.19377231,  89.03737177, 108.48241901, 114.85548622,\n",
       "        78.90853994, 109.60870677,  89.50927856, 115.30841388,\n",
       "        65.33850618, 114.3288478 ,  93.33815713,  79.75185528,\n",
       "        99.84048767,  88.77761987, 115.72149397, 103.70133692,\n",
       "       123.06568656,  95.68940121,  97.39502359,  90.50310387,\n",
       "        94.15189702, 117.63773016, 116.36577392,  77.92941345,\n",
       "        90.82442309,  72.23424308, 113.36204224,  86.28322739,\n",
       "        96.46178049, 145.07946298, 125.77719835, 117.21201148,\n",
       "        93.32354205, 120.54781721, 100.65036502,  97.67589035,\n",
       "        93.56597625, 105.66213856, 103.65543589,  84.12665764,\n",
       "       132.59538501,  72.33736454, 102.00994456, 122.88912118,\n",
       "       106.57285316,  99.56297314,  84.29722845, 110.49545449,\n",
       "       127.50784296, 106.50030317, 113.21054818,  87.39465524,\n",
       "        66.97311819,  98.7963937 , 107.16768875,  93.94246596,\n",
       "        97.16365933,  95.73761476,  80.47744135,  85.99093232,\n",
       "        83.01235157,  85.74306   , 112.93860715, 114.36135932,\n",
       "        99.46603588, 112.96673789,  91.39439227,  93.56037776,\n",
       "        96.59149741,  93.6299203 , 110.8632571 ,  79.8649391 ,\n",
       "       110.63053483, 106.92582873, 102.47147586,  98.6428953 ,\n",
       "       104.7795628 , 101.69883436,  95.28421195, 112.72721588,\n",
       "       101.78551145, 125.76339363,  94.5080218 , 119.07477975,\n",
       "        81.90628353, 104.68773438,  90.07059785, 106.13729726,\n",
       "        92.8337471 ,  93.01277116, 112.42817015, 125.00209848,\n",
       "       136.26954103, 109.47444738, 102.30737943,  89.93182531,\n",
       "        85.96572154,  88.35589095, 107.92589926, 140.94677663,\n",
       "        82.36150157, 109.75204693,  89.30028262,  98.19641312,\n",
       "       126.39196768,  75.43085843, 112.14999851, 127.43794585,\n",
       "       101.75693061, 122.65788753,  90.43496922,  88.13242307,\n",
       "       112.81271355,  53.65659259,  90.4222479 , 115.47042901,\n",
       "        94.96986239, 102.61017706,  89.4075342 , 104.62523808,\n",
       "       127.30187577,  96.00101184,  94.03582239, 108.10656274,\n",
       "       111.93466326,  82.19207845, 100.59821321,  98.1967724 ,\n",
       "       110.41671957,  91.82413997, 106.29459846, 100.80858649,\n",
       "       107.8005397 , 121.6885914 , 113.34999048,  74.58062318,\n",
       "        96.09378163,  97.75713179, 114.44008312,  86.54491984,\n",
       "       111.98057796,  94.42926016, 122.16360441,  78.42185257,\n",
       "        98.43565809,  89.87454402, 101.60344318, 113.17729555,\n",
       "        84.77001122,  79.33408411,  89.42849884,  87.81430823,\n",
       "       118.11215736,  82.88379209,  70.35751736,  76.14760093,\n",
       "       119.73358186,  76.5731678 ,  90.64490847, 100.77887825,\n",
       "        83.44922137,  96.90250927, 108.40842813, 101.63160815,\n",
       "       105.55831754,  95.83264097, 100.87682292,  84.48836939,\n",
       "       107.73708061,  80.21355746, 120.69532254,  88.5755909 ,\n",
       "       119.77954041, 103.40105174, 102.45583494, 131.26989764,\n",
       "       106.13913077,  87.00303586,  89.30099201,  89.04709655,\n",
       "       109.73934469, 100.46532974, 107.77941156,  94.60480303,\n",
       "        92.48009955,  83.98405904, 114.19397937, 135.78892951,\n",
       "        84.29887885,  96.56367279, 112.46190632,  95.28347256,\n",
       "       109.83841306, 101.33421897, 101.15171188, 115.31297689,\n",
       "       103.01965169,  71.47468804,  99.23759037, 104.69747955,\n",
       "        92.67918698,  99.12564641,  88.56522849,  80.20496883,\n",
       "        85.19082683,  87.42357343,  98.80400341,  88.00473437,\n",
       "       108.18099872, 101.77554606,  72.97966495,  72.98901196,\n",
       "        97.14143841, 112.17571051,  92.36700336,  99.38178909,\n",
       "        85.7262706 ,  89.84063553,  99.09782237,  94.85944843,\n",
       "        77.84815802,  98.29216594, 123.60181593, 109.09315923,\n",
       "       110.16018757, 138.09099618, 106.25571241, 124.09497714,\n",
       "        85.68744739, 124.30829909, 110.66980599, 101.1162321 ,\n",
       "       104.82585068, 113.81502375, 102.42708416,  81.69328211,\n",
       "       123.87258731, 108.48166054, 123.74624732,  76.95026408,\n",
       "       110.19054439, 109.18008001,  89.72668863,  76.02305928,\n",
       "        97.63362589, 100.11966285, 118.19538662, 110.64070838,\n",
       "        78.1613091 , 115.98593722,  96.70439012, 101.11872634,\n",
       "        78.73299185, 100.17461601,  67.03802246,  78.46750038,\n",
       "        79.92024122, 102.7241788 , 118.46512401,  90.38948101,\n",
       "        93.73385806,  82.75724267,  90.38274596,  78.21944893,\n",
       "        99.22672133, 102.47063407, 100.99089959, 101.72212965,\n",
       "        98.5913239 ,  83.49165023, 107.60275132, 124.88879939,\n",
       "       118.86725165,  98.16533364,  85.82530285,  91.25395779,\n",
       "       115.88054983, 109.39077629, 125.42349522, 102.44938292,\n",
       "       113.09756635,  90.29925318, 101.18487157,  94.27673566,\n",
       "       114.01901389,  92.42825056,  96.35215922,  89.46781437,\n",
       "        93.45299939,  90.51850473,  80.66956208,  95.71482253,\n",
       "       115.14455133,  88.94725017,  99.8287199 , 127.7236396 ,\n",
       "        89.10615767,  61.21508181,  95.72911514,  77.55764416,\n",
       "        77.23284681, 100.64182514, 109.06803284, 113.09966979,\n",
       "       113.9653704 ,  93.75495613, 102.45452062,  86.54765112,\n",
       "       105.68706155, 119.28253507, 107.17813857, 100.06787672,\n",
       "        95.22450809, 102.07712786,  83.32161494,  76.15722762,\n",
       "        96.34324881,  96.40715761, 108.96142421, 122.96752937,\n",
       "       103.02125269,  83.49036014,  85.09910117, 113.36203015,\n",
       "        98.89732123, 103.69463563, 107.37550676,  92.79178519,\n",
       "        97.43071061,  87.78748074,  84.67796828, 115.31341506,\n",
       "        97.02157425,  71.78180072,  80.99386003,  88.63958957,\n",
       "       109.00104362, 112.92297535,  87.53896849,  95.76845353,\n",
       "        88.5874237 ,  84.86760219, 101.04711305, 126.70774486,\n",
       "       105.11910024, 106.35749901,  86.82174374, 117.93491764,\n",
       "        86.42032351,  91.53993111, 100.76624716,  91.64021533,\n",
       "       104.90463552,  81.04071262,  89.21772877,  96.25301935,\n",
       "        98.60685889, 119.72290425,  87.52443983,  80.41927161,\n",
       "       115.17629424,  79.06627169,  96.19539802,  98.92322874,\n",
       "       111.13250225,  86.82608096,  80.97678763, 117.56162354,\n",
       "       102.25762781, 101.5757254 ,  82.92441952, 100.84598101,\n",
       "       126.67040133, 116.59554616,  85.264949  ,  94.13601902,\n",
       "        83.00417419,  67.01754102, 116.80719352, 118.70620559,\n",
       "       104.24304258,  99.07240192, 129.52155185,  89.43004926,\n",
       "       100.88847022,  89.99823286, 100.77019279, 109.28236902,\n",
       "       100.31080803, 114.01154902,  81.45946785,  98.86369926,\n",
       "       107.09776043,  99.66146161, 110.3950793 , 117.60579619,\n",
       "       105.49444394, 117.7106194 , 100.3003808 ,  91.37861219,\n",
       "        83.38415307, 116.94749468,  89.35057728, 119.12967297,\n",
       "        74.59491242,  89.07440917,  91.28382673,  82.16263143,\n",
       "       113.78870523, 122.17566154,  88.94765521, 103.66844713,\n",
       "        88.48679026, 110.33088741,  99.55888418, 129.14823049,\n",
       "        89.12252749, 105.25440921,  86.06465809,  99.63433076,\n",
       "       110.68701302, 104.87460896, 130.35657547, 101.16676445,\n",
       "        99.95464756, 118.28740405,  86.90937592,  84.51012311,\n",
       "        74.57758266, 102.0918339 ,  92.5847673 ,  90.18481338,\n",
       "       104.74273869,  85.93340604, 107.46157255,  96.6640485 ,\n",
       "       113.52633407,  98.60687015, 119.84697262,  95.97511103,\n",
       "        78.54133668,  90.20457545, 106.4669425 ,  92.5502971 ,\n",
       "       123.0477511 , 105.40680673,  92.67714502,  90.72482586,\n",
       "       112.11604133, 112.83004993, 114.22558959,  76.24581791,\n",
       "        96.04412697, 105.03052766,  65.77874984,  93.74039561,\n",
       "       100.91562178,  85.15563361,  82.16499028,  98.99582178,\n",
       "       112.16200492,  99.04907087, 109.70998647,  71.43883312,\n",
       "       116.72613945,  76.20551497, 108.06604238, 100.97499251,\n",
       "        86.65344396,  65.0637348 ,  81.91107171,  95.59426242,\n",
       "        92.63669843, 103.9390669 ,  98.77075914,  74.38149126,\n",
       "        96.97152762,  98.44327628, 107.42956665, 103.75667958,\n",
       "        92.77068164, 105.82848915,  81.49078061,  97.5699061 ,\n",
       "       114.63785851, 105.61129534, 111.2985908 ,  97.80826728,\n",
       "        97.71859654,  93.37109476, 110.8717286 , 122.87015974,\n",
       "       113.01380157,  60.97874882, 128.95308792, 113.75100578,\n",
       "       107.33621891,  87.07311511, 114.2056553 ,  77.14971151,\n",
       "       105.94644543, 100.03692242, 108.15653893, 107.88667566,\n",
       "        71.96483804,  89.87915683, 123.43170554,  91.81613591,\n",
       "       103.86372023, 138.07483684, 109.24095259,  77.76256648,\n",
       "       102.57867991, 121.36175967,  93.07929426,  78.23703356,\n",
       "       104.33708288, 108.35864046,  53.52689973, 112.15151885,\n",
       "        90.79348218,  98.60086955, 105.44381828, 101.71233946,\n",
       "       127.63100968, 100.83060276, 129.00534209,  94.75471162,\n",
       "        91.72173315, 107.16483003, 104.70524667,  97.39568423,\n",
       "       111.95154464,  90.15763753, 121.67463403,  98.09119309,\n",
       "       101.11076536,  73.63314127, 108.25080679,  99.29656816,\n",
       "       118.87203344, 111.2702931 , 110.2675985 , 117.73496157,\n",
       "       128.83644817,  91.97806547, 102.78177021, 111.96315931,\n",
       "        72.17533808,  85.95260092,  81.78377273,  95.05204344,\n",
       "        97.55415468,  61.83891387, 102.90982994,  92.00091836,\n",
       "       128.5210787 ,  72.35321329,  96.32487244,  98.55541805,\n",
       "        89.45359341, 111.56103472,  84.25409882,  85.06977468,\n",
       "        99.35686018,  69.95465521,  98.70131555, 107.71526001,\n",
       "       102.61326451, 109.22202093,  73.55522052, 103.6811392 ,\n",
       "        92.40029357, 112.91623809,  99.14159626, 116.35706079,\n",
       "        88.09527649,  81.91257567,  90.37853059, 110.01396635,\n",
       "        97.895275  , 112.69238924, 100.44089563,  88.37445282,\n",
       "        98.51409098, 114.83596849,  91.35069225, 116.11056217,\n",
       "        85.38507631, 122.2043303 ,  92.29127185,  78.50984937,\n",
       "       106.18173109, 106.43489441, 104.48670715, 103.9232911 ,\n",
       "       106.04524894,  91.78727916, 110.7043456 ,  84.5353958 ,\n",
       "        89.39860969,  87.15391714,  88.81295416, 118.56194811,\n",
       "       106.927341  , 122.56575517,  90.82045344,  67.16809935,\n",
       "        73.92771392,  81.2714517 ,  95.8977378 ,  74.63677423,\n",
       "       109.23092867,  80.07357323, 122.83174264,  97.99627999,\n",
       "       118.55569755, 110.8034014 , 108.17741647,  98.07751285,\n",
       "        81.30179391,  97.09553816,  82.99577542,  74.16890381,\n",
       "       119.97830575,  73.66949245, 110.54322197, 109.92255862,\n",
       "       121.63940867,  98.90347013,  92.58695212, 124.4909715 ,\n",
       "       113.73944904,  98.87886864, 105.42707141,  88.92586053,\n",
       "        89.05720406,  92.77606539,  96.96956846,  90.80335035,\n",
       "       104.93624861, 116.81906406,  85.63376519, 101.70753387,\n",
       "       105.60426182, 111.14760152, 114.90470688, 100.39711622,\n",
       "        94.8237335 ,  91.75716362, 105.04202315,  85.52269927,\n",
       "        85.21270647,  76.47111526, 113.43322042,  81.8579974 ,\n",
       "       108.30530613,  91.07353998,  91.67280636,  82.10384758,\n",
       "       112.2783972 ,  76.25343235, 112.56750234,  97.24440792,\n",
       "       107.57954753,  88.93150267, 118.68803079, 117.0976189 ,\n",
       "       116.00434221, 109.60383377,  89.08039032,  82.06910303,\n",
       "        97.73731228,  67.9918244 , 127.50563536,  97.40148919,\n",
       "       114.61600428,  79.80094757,  94.66932894, 107.9571277 ,\n",
       "       106.13526094, 117.58559714, 109.11802689, 105.70803208,\n",
       "       104.51653466, 115.5753547 ,  78.28706655,  78.48457021,\n",
       "        88.69230311,  88.47394012, 106.64232431,  94.80479193,\n",
       "        94.31630687,  65.77969158,  58.59560288, 132.60251587,\n",
       "       109.70631684, 118.71296108, 105.02405914, 113.83998381,\n",
       "        99.61437623, 108.68735578,  82.13058543, 121.21541197,\n",
       "       105.81875013,  79.45826502, 113.15647439, 105.60375018,\n",
       "       134.07391469, 100.03304986, 102.41894523, 112.07955544,\n",
       "        86.57071373,  81.66923124,  88.01944814, 111.44269137,\n",
       "        96.27712673,  87.00657743,  99.7158646 ,  96.86057019])"
      ]
     },
     "execution_count": 14,
     "metadata": {},
     "output_type": "execute_result"
    }
   ],
   "source": [
    "samples = np.random.normal(loc=100, scale=15, size=1000)\n",
    "samples"
   ]
  },
  {
   "cell_type": "code",
   "execution_count": 40,
   "id": "085dff72",
   "metadata": {},
   "outputs": [],
   "source": [
    "a = [1, 4, 7, 9, 10]\n",
    "b = [4, 9, 10, 15]\n",
    "c = [2, 4, 5, 7, 8, 9, 11]\n",
    "d = [1,2,3,5,6,9,9,10,11,12]"
   ]
  },
  {
   "cell_type": "code",
   "execution_count": 41,
   "id": "67eeb676",
   "metadata": {},
   "outputs": [
    {
     "name": "stdout",
     "output_type": "stream",
     "text": [
      "4.0\n",
      "7.75\n",
      "4.5\n",
      "3.5\n"
     ]
    }
   ],
   "source": [
    "print(np.percentile(a, 25))\n",
    "print(np.percentile(b, 25))\n",
    "print(np.percentile(c, 25))\n",
    "print(np.percentile(d, 25))"
   ]
  },
  {
   "cell_type": "code",
   "execution_count": null,
   "id": "ac4148bb",
   "metadata": {},
   "outputs": [],
   "source": []
  },
  {
   "cell_type": "code",
   "execution_count": null,
   "id": "04f83117",
   "metadata": {},
   "outputs": [],
   "source": []
  },
  {
   "cell_type": "code",
   "execution_count": null,
   "id": "36a9374a",
   "metadata": {},
   "outputs": [],
   "source": []
  }
 ],
 "metadata": {
  "kernelspec": {
   "display_name": "Python 3 (ipykernel)",
   "language": "python",
   "name": "python3"
  },
  "language_info": {
   "codemirror_mode": {
    "name": "ipython",
    "version": 3
   },
   "file_extension": ".py",
   "mimetype": "text/x-python",
   "name": "python",
   "nbconvert_exporter": "python",
   "pygments_lexer": "ipython3",
   "version": "3.9.13"
  }
 },
 "nbformat": 4,
 "nbformat_minor": 5
}
