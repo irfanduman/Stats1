{
 "cells": [
  {
   "cell_type": "code",
   "execution_count": null,
   "id": "d47921d2",
   "metadata": {},
   "outputs": [],
   "source": [
    "import numpy as np\n",
    "from scipy import stats\n",
    "\n",
    "salary = [102, 33, 26, 27, 30, 25, 33, 33, 24]\n",
    "\n",
    "mean_salary = np.mean(salary)\n",
    "print(\"mean:\", mean_salary)\n",
    "\n",
    "median_salary = np.median(salary)\n",
    "print(\"median:\", median_salary)\n",
    "\n",
    "mode_salary = stats.mode(salary)\n",
    "print(\"mode:\", mode_salary)\n",
    "\n",
    "mode_salary = stats.mode(salary, keepdims=False)\n",
    "print(\"mode:\", mode_salary)\n",
    "\n",
    "mode_salary = stats.mode(salary, keepdims=True)\n",
    "print(\"mode:\", mode_salary)"
   ]
  },
  {
   "cell_type": "code",
   "execution_count": null,
   "id": "5d68d60c",
   "metadata": {},
   "outputs": [],
   "source": [
    "#NumPy\n",
    "#Pandas\n",
    "#SciPy (stats)\n",
    "#Seaborn  (gorsellestirme)\n",
    "#Matplotlib (gorsellestirme)"
   ]
  },
  {
   "cell_type": "code",
   "execution_count": 2,
   "id": "6dc8b4f1",
   "metadata": {},
   "outputs": [
    {
     "name": "stdout",
     "output_type": "stream",
     "text": [
      "1.21.5\n"
     ]
    }
   ],
   "source": [
    "print(np.__version__)"
   ]
  },
  {
   "cell_type": "code",
   "execution_count": 2,
   "id": "aae51bd0",
   "metadata": {},
   "outputs": [],
   "source": [
    "import numpy as np\n",
    "import seaborn as sns\n",
    "from scipy import stats"
   ]
  },
  {
   "cell_type": "code",
   "execution_count": 4,
   "id": "5a653125",
   "metadata": {},
   "outputs": [],
   "source": [
    "a = [5,7,10,15,19,21,21,22,22,23,23,23,23,23,24,24,24,24,25]"
   ]
  },
  {
   "cell_type": "code",
   "execution_count": 5,
   "id": "5444cece",
   "metadata": {},
   "outputs": [
    {
     "data": {
      "text/plain": [
       "19"
      ]
     },
     "execution_count": 5,
     "metadata": {},
     "output_type": "execute_result"
    }
   ],
   "source": [
    "len(a)"
   ]
  },
  {
   "cell_type": "code",
   "execution_count": 6,
   "id": "54ed1d50",
   "metadata": {},
   "outputs": [
    {
     "name": "stdout",
     "output_type": "stream",
     "text": [
      "19.894736842105264\n",
      "23.0\n",
      "ModeResult(mode=array([23]), count=array([5]))\n"
     ]
    },
    {
     "name": "stderr",
     "output_type": "stream",
     "text": [
      "/var/folders/rj/btv0gg5s6k311rng_vg2r35w0000gn/T/ipykernel_47645/2992882565.py:5: FutureWarning: Unlike other reduction functions (e.g. `skew`, `kurtosis`), the default behavior of `mode` typically preserves the axis it acts along. In SciPy 1.11.0, this behavior will change: the default value of `keepdims` will become False, the `axis` over which the statistic is taken will be eliminated, and the value None will no longer be accepted. Set `keepdims` to True or False to avoid this warning.\n",
      "  print(stats.mode(a))\n"
     ]
    }
   ],
   "source": [
    "print(np.mean(a))\n",
    "\n",
    "print(np.median(a))\n",
    "\n",
    "print(stats.mode(a))"
   ]
  },
  {
   "cell_type": "code",
   "execution_count": 11,
   "id": "c1708872",
   "metadata": {},
   "outputs": [
    {
     "name": "stderr",
     "output_type": "stream",
     "text": [
      "/var/folders/rj/btv0gg5s6k311rng_vg2r35w0000gn/T/ipykernel_47645/3728512739.py:1: FutureWarning: Unlike other reduction functions (e.g. `skew`, `kurtosis`), the default behavior of `mode` typically preserves the axis it acts along. In SciPy 1.11.0, this behavior will change: the default value of `keepdims` will become False, the `axis` over which the statistic is taken will be eliminated, and the value None will no longer be accepted. Set `keepdims` to True or False to avoid this warning.\n",
      "  stats.mode(a)[0]\n"
     ]
    },
    {
     "data": {
      "text/plain": [
       "array([23])"
      ]
     },
     "execution_count": 11,
     "metadata": {},
     "output_type": "execute_result"
    }
   ],
   "source": [
    "stats.mode(a)[0]"
   ]
  },
  {
   "cell_type": "code",
   "execution_count": 10,
   "id": "765064b9",
   "metadata": {},
   "outputs": [
    {
     "name": "stderr",
     "output_type": "stream",
     "text": [
      "/var/folders/rj/btv0gg5s6k311rng_vg2r35w0000gn/T/ipykernel_47645/1558523222.py:1: FutureWarning: Unlike other reduction functions (e.g. `skew`, `kurtosis`), the default behavior of `mode` typically preserves the axis it acts along. In SciPy 1.11.0, this behavior will change: the default value of `keepdims` will become False, the `axis` over which the statistic is taken will be eliminated, and the value None will no longer be accepted. Set `keepdims` to True or False to avoid this warning.\n",
      "  stats.mode(a)[0][0]\n"
     ]
    },
    {
     "data": {
      "text/plain": [
       "23"
      ]
     },
     "execution_count": 10,
     "metadata": {},
     "output_type": "execute_result"
    }
   ],
   "source": [
    "stats.mode(a)[0][0]"
   ]
  },
  {
   "cell_type": "code",
   "execution_count": 8,
   "id": "73d12e64",
   "metadata": {},
   "outputs": [
    {
     "name": "stderr",
     "output_type": "stream",
     "text": [
      "/var/folders/rj/btv0gg5s6k311rng_vg2r35w0000gn/T/ipykernel_47645/2732935528.py:1: FutureWarning: Unlike other reduction functions (e.g. `skew`, `kurtosis`), the default behavior of `mode` typically preserves the axis it acts along. In SciPy 1.11.0, this behavior will change: the default value of `keepdims` will become False, the `axis` over which the statistic is taken will be eliminated, and the value None will no longer be accepted. Set `keepdims` to True or False to avoid this warning.\n",
      "  stats.mode(a)[1]\n"
     ]
    },
    {
     "data": {
      "text/plain": [
       "array([5])"
      ]
     },
     "execution_count": 8,
     "metadata": {},
     "output_type": "execute_result"
    }
   ],
   "source": [
    "stats.mode(a)[1]"
   ]
  },
  {
   "cell_type": "code",
   "execution_count": 13,
   "id": "5c346e6e",
   "metadata": {},
   "outputs": [
    {
     "data": {
      "text/plain": [
       "5"
      ]
     },
     "execution_count": 13,
     "metadata": {},
     "output_type": "execute_result"
    }
   ],
   "source": [
    "np.min(a)"
   ]
  },
  {
   "cell_type": "code",
   "execution_count": 14,
   "id": "3662be49",
   "metadata": {},
   "outputs": [
    {
     "data": {
      "text/plain": [
       "25"
      ]
     },
     "execution_count": 14,
     "metadata": {},
     "output_type": "execute_result"
    }
   ],
   "source": [
    "np.max(a)"
   ]
  },
  {
   "cell_type": "code",
   "execution_count": 23,
   "id": "ceaabd41",
   "metadata": {},
   "outputs": [
    {
     "data": {
      "text/plain": [
       "20.0"
      ]
     },
     "execution_count": 23,
     "metadata": {},
     "output_type": "execute_result"
    }
   ],
   "source": [
    "q1 = np.percentile(a, 25)\n",
    "\n",
    "q1"
   ]
  },
  {
   "cell_type": "code",
   "execution_count": 24,
   "id": "4b86c2b7",
   "metadata": {},
   "outputs": [
    {
     "data": {
      "text/plain": [
       "23.5"
      ]
     },
     "execution_count": 24,
     "metadata": {},
     "output_type": "execute_result"
    }
   ],
   "source": [
    "q3 = np.percentile(a, 75)\n",
    "\n",
    "q3"
   ]
  },
  {
   "cell_type": "code",
   "execution_count": 20,
   "id": "50d7e905",
   "metadata": {},
   "outputs": [],
   "source": [
    "q2 = np.percentile(a, 50)"
   ]
  },
  {
   "cell_type": "code",
   "execution_count": 25,
   "id": "fbb86e60",
   "metadata": {},
   "outputs": [
    {
     "data": {
      "text/plain": [
       "3.5"
      ]
     },
     "execution_count": 25,
     "metadata": {},
     "output_type": "execute_result"
    }
   ],
   "source": [
    "IQR = q3 - q1\n",
    "\n",
    "IQR"
   ]
  },
  {
   "cell_type": "code",
   "execution_count": 26,
   "id": "e4205ca0",
   "metadata": {},
   "outputs": [
    {
     "data": {
      "text/plain": [
       "3.5"
      ]
     },
     "execution_count": 26,
     "metadata": {},
     "output_type": "execute_result"
    }
   ],
   "source": [
    "stats.iqr(a)"
   ]
  },
  {
   "cell_type": "code",
   "execution_count": 27,
   "id": "e8e5823f",
   "metadata": {},
   "outputs": [
    {
     "data": {
      "text/plain": [
       "array([20. , 23. , 23.5])"
      ]
     },
     "execution_count": 27,
     "metadata": {},
     "output_type": "execute_result"
    }
   ],
   "source": [
    "np.percentile(a, [25, 50, 75])"
   ]
  },
  {
   "cell_type": "code",
   "execution_count": null,
   "id": "791ffcb8",
   "metadata": {},
   "outputs": [],
   "source": []
  },
  {
   "cell_type": "code",
   "execution_count": 18,
   "id": "f5a4bf90",
   "metadata": {},
   "outputs": [
    {
     "name": "stdout",
     "output_type": "stream",
     "text": [
      "Help on function percentile in module numpy:\n",
      "\n",
      "percentile(a, q, axis=None, out=None, overwrite_input=False, interpolation='linear', keepdims=False)\n",
      "    Compute the q-th percentile of the data along the specified axis.\n",
      "    \n",
      "    Returns the q-th percentile(s) of the array elements.\n",
      "    \n",
      "    Parameters\n",
      "    ----------\n",
      "    a : array_like\n",
      "        Input array or object that can be converted to an array.\n",
      "    q : array_like of float\n",
      "        Percentile or sequence of percentiles to compute, which must be between\n",
      "        0 and 100 inclusive.\n",
      "    axis : {int, tuple of int, None}, optional\n",
      "        Axis or axes along which the percentiles are computed. The\n",
      "        default is to compute the percentile(s) along a flattened\n",
      "        version of the array.\n",
      "    \n",
      "        .. versionchanged:: 1.9.0\n",
      "            A tuple of axes is supported\n",
      "    out : ndarray, optional\n",
      "        Alternative output array in which to place the result. It must\n",
      "        have the same shape and buffer length as the expected output,\n",
      "        but the type (of the output) will be cast if necessary.\n",
      "    overwrite_input : bool, optional\n",
      "        If True, then allow the input array `a` to be modified by intermediate\n",
      "        calculations, to save memory. In this case, the contents of the input\n",
      "        `a` after this function completes is undefined.\n",
      "    \n",
      "    interpolation : {'linear', 'lower', 'higher', 'midpoint', 'nearest'}\n",
      "        This optional parameter specifies the interpolation method to\n",
      "        use when the desired percentile lies between two data points\n",
      "        ``i < j``:\n",
      "    \n",
      "        * 'linear': ``i + (j - i) * fraction``, where ``fraction``\n",
      "          is the fractional part of the index surrounded by ``i``\n",
      "          and ``j``.\n",
      "        * 'lower': ``i``.\n",
      "        * 'higher': ``j``.\n",
      "        * 'nearest': ``i`` or ``j``, whichever is nearest.\n",
      "        * 'midpoint': ``(i + j) / 2``.\n",
      "    \n",
      "        .. versionadded:: 1.9.0\n",
      "    keepdims : bool, optional\n",
      "        If this is set to True, the axes which are reduced are left in\n",
      "        the result as dimensions with size one. With this option, the\n",
      "        result will broadcast correctly against the original array `a`.\n",
      "    \n",
      "        .. versionadded:: 1.9.0\n",
      "    \n",
      "    Returns\n",
      "    -------\n",
      "    percentile : scalar or ndarray\n",
      "        If `q` is a single percentile and `axis=None`, then the result\n",
      "        is a scalar. If multiple percentiles are given, first axis of\n",
      "        the result corresponds to the percentiles. The other axes are\n",
      "        the axes that remain after the reduction of `a`. If the input\n",
      "        contains integers or floats smaller than ``float64``, the output\n",
      "        data-type is ``float64``. Otherwise, the output data-type is the\n",
      "        same as that of the input. If `out` is specified, that array is\n",
      "        returned instead.\n",
      "    \n",
      "    See Also\n",
      "    --------\n",
      "    mean\n",
      "    median : equivalent to ``percentile(..., 50)``\n",
      "    nanpercentile\n",
      "    quantile : equivalent to percentile, except with q in the range [0, 1].\n",
      "    \n",
      "    Notes\n",
      "    -----\n",
      "    Given a vector ``V`` of length ``N``, the q-th percentile of\n",
      "    ``V`` is the value ``q/100`` of the way from the minimum to the\n",
      "    maximum in a sorted copy of ``V``. The values and distances of\n",
      "    the two nearest neighbors as well as the `interpolation` parameter\n",
      "    will determine the percentile if the normalized ranking does not\n",
      "    match the location of ``q`` exactly. This function is the same as\n",
      "    the median if ``q=50``, the same as the minimum if ``q=0`` and the\n",
      "    same as the maximum if ``q=100``.\n",
      "    \n",
      "    Examples\n",
      "    --------\n",
      "    >>> a = np.array([[10, 7, 4], [3, 2, 1]])\n",
      "    >>> a\n",
      "    array([[10,  7,  4],\n",
      "           [ 3,  2,  1]])\n",
      "    >>> np.percentile(a, 50)\n",
      "    3.5\n",
      "    >>> np.percentile(a, 50, axis=0)\n",
      "    array([6.5, 4.5, 2.5])\n",
      "    >>> np.percentile(a, 50, axis=1)\n",
      "    array([7.,  2.])\n",
      "    >>> np.percentile(a, 50, axis=1, keepdims=True)\n",
      "    array([[7.],\n",
      "           [2.]])\n",
      "    \n",
      "    >>> m = np.percentile(a, 50, axis=0)\n",
      "    >>> out = np.zeros_like(m)\n",
      "    >>> np.percentile(a, 50, axis=0, out=out)\n",
      "    array([6.5, 4.5, 2.5])\n",
      "    >>> m\n",
      "    array([6.5, 4.5, 2.5])\n",
      "    \n",
      "    >>> b = a.copy()\n",
      "    >>> np.percentile(b, 50, axis=1, overwrite_input=True)\n",
      "    array([7.,  2.])\n",
      "    >>> assert not np.all(a == b)\n",
      "    \n",
      "    The different types of interpolation can be visualized graphically:\n",
      "    \n",
      "    .. plot::\n",
      "    \n",
      "        import matplotlib.pyplot as plt\n",
      "    \n",
      "        a = np.arange(4)\n",
      "        p = np.linspace(0, 100, 6001)\n",
      "        ax = plt.gca()\n",
      "        lines = [\n",
      "            ('linear', None),\n",
      "            ('higher', '--'),\n",
      "            ('lower', '--'),\n",
      "            ('nearest', '-.'),\n",
      "            ('midpoint', '-.'),\n",
      "        ]\n",
      "        for interpolation, style in lines:\n",
      "            ax.plot(\n",
      "                p, np.percentile(a, p, interpolation=interpolation),\n",
      "                label=interpolation, linestyle=style)\n",
      "        ax.set(\n",
      "            title='Interpolation methods for list: ' + str(a),\n",
      "            xlabel='Percentile',\n",
      "            ylabel='List item returned',\n",
      "            yticks=a)\n",
      "        ax.legend()\n",
      "        plt.show()\n",
      "\n"
     ]
    }
   ],
   "source": [
    "help(np.percentile)  # help() fonksiyonu orneklerle bir fonsiyonu aciklar"
   ]
  },
  {
   "cell_type": "code",
   "execution_count": null,
   "id": "b58f04cf",
   "metadata": {},
   "outputs": [],
   "source": []
  },
  {
   "cell_type": "markdown",
   "id": "f6da8729",
   "metadata": {},
   "source": [
    "# Variance and Standard Deviation"
   ]
  },
  {
   "cell_type": "code",
   "execution_count": 28,
   "id": "4ae3ce54",
   "metadata": {},
   "outputs": [
    {
     "data": {
      "text/plain": [
       "34.93628808864266"
      ]
     },
     "execution_count": 28,
     "metadata": {},
     "output_type": "execute_result"
    }
   ],
   "source": [
    "np.var(a)"
   ]
  },
  {
   "cell_type": "code",
   "execution_count": 29,
   "id": "06fda23b",
   "metadata": {},
   "outputs": [
    {
     "data": {
      "text/plain": [
       "5.910692691101667"
      ]
     },
     "execution_count": 29,
     "metadata": {},
     "output_type": "execute_result"
    }
   ],
   "source": [
    "np.std(a)  # population std"
   ]
  },
  {
   "cell_type": "code",
   "execution_count": 33,
   "id": "c7b44196",
   "metadata": {},
   "outputs": [
    {
     "data": {
      "text/plain": [
       "6.0726594653789165"
      ]
     },
     "execution_count": 33,
     "metadata": {},
     "output_type": "execute_result"
    }
   ],
   "source": [
    "np.std(a, ddof=1)  # sample std (n-1)'e boler"
   ]
  },
  {
   "cell_type": "code",
   "execution_count": 30,
   "id": "d537ba23",
   "metadata": {},
   "outputs": [
    {
     "data": {
      "text/plain": [
       "5.910692691101667"
      ]
     },
     "execution_count": 30,
     "metadata": {},
     "output_type": "execute_result"
    }
   ],
   "source": [
    "np.sqrt(np.var(a))"
   ]
  },
  {
   "cell_type": "code",
   "execution_count": 1,
   "id": "ffcf504b",
   "metadata": {},
   "outputs": [],
   "source": [
    "b = [0,0,0,2,4,4,4]"
   ]
  },
  {
   "cell_type": "code",
   "execution_count": 3,
   "id": "6ba3af7b",
   "metadata": {},
   "outputs": [
    {
     "data": {
      "text/plain": [
       "1.8516401995451028"
      ]
     },
     "execution_count": 3,
     "metadata": {},
     "output_type": "execute_result"
    }
   ],
   "source": [
    "np.std(b)  # population std"
   ]
  },
  {
   "cell_type": "code",
   "execution_count": 4,
   "id": "3f64bae0",
   "metadata": {},
   "outputs": [
    {
     "data": {
      "text/plain": [
       "3.4285714285714284"
      ]
     },
     "execution_count": 4,
     "metadata": {},
     "output_type": "execute_result"
    }
   ],
   "source": [
    "np.var(b)"
   ]
  },
  {
   "cell_type": "code",
   "execution_count": 5,
   "id": "07ac429f",
   "metadata": {},
   "outputs": [],
   "source": [
    "c = [0,2,2,2,2,2,4]"
   ]
  },
  {
   "cell_type": "code",
   "execution_count": 6,
   "id": "7d2a2c51",
   "metadata": {},
   "outputs": [
    {
     "data": {
      "text/plain": [
       "1.0690449676496976"
      ]
     },
     "execution_count": 6,
     "metadata": {},
     "output_type": "execute_result"
    }
   ],
   "source": [
    "np.std(c)  # population std"
   ]
  },
  {
   "cell_type": "code",
   "execution_count": 7,
   "id": "70ab6c0e",
   "metadata": {},
   "outputs": [
    {
     "data": {
      "text/plain": [
       "1.1428571428571428"
      ]
     },
     "execution_count": 7,
     "metadata": {},
     "output_type": "execute_result"
    }
   ],
   "source": [
    "np.var(c)"
   ]
  },
  {
   "cell_type": "markdown",
   "id": "a569e3e0",
   "metadata": {},
   "source": [
    "# Skewness"
   ]
  },
  {
   "cell_type": "code",
   "execution_count": 31,
   "id": "bf7f698e",
   "metadata": {},
   "outputs": [
    {
     "data": {
      "text/plain": [
       "-1.5176315809887007"
      ]
     },
     "execution_count": 31,
     "metadata": {},
     "output_type": "execute_result"
    }
   ],
   "source": [
    "stats.skew(a)  # a is negatively skewed"
   ]
  },
  {
   "cell_type": "code",
   "execution_count": 32,
   "id": "049d344d",
   "metadata": {},
   "outputs": [
    {
     "data": {
      "text/plain": [
       "DescribeResult(nobs=19, minmax=(5, 25), mean=19.894736842105264, variance=36.877192982456144, skewness=-1.5176315809887007, kurtosis=0.8528442245963328)"
      ]
     },
     "execution_count": 32,
     "metadata": {},
     "output_type": "execute_result"
    }
   ],
   "source": [
    "stats.describe(a)"
   ]
  },
  {
   "cell_type": "code",
   "execution_count": null,
   "id": "fd01c903",
   "metadata": {},
   "outputs": [],
   "source": []
  },
  {
   "cell_type": "code",
   "execution_count": null,
   "id": "7becfde0",
   "metadata": {},
   "outputs": [],
   "source": []
  }
 ],
 "metadata": {
  "kernelspec": {
   "display_name": "Python 3 (ipykernel)",
   "language": "python",
   "name": "python3"
  },
  "language_info": {
   "codemirror_mode": {
    "name": "ipython",
    "version": 3
   },
   "file_extension": ".py",
   "mimetype": "text/x-python",
   "name": "python",
   "nbconvert_exporter": "python",
   "pygments_lexer": "ipython3",
   "version": "3.9.13"
  }
 },
 "nbformat": 4,
 "nbformat_minor": 5
}
